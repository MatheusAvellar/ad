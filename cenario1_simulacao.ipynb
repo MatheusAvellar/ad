{
  "nbformat": 4,
  "nbformat_minor": 0,
  "metadata": {
    "colab": {
      "name": "[AD] Trabalho final - Cenário 1",
      "provenance": []
    },
    "kernelspec": {
      "name": "python3",
      "display_name": "Python 3"
    },
    "language_info": {
      "name": "python"
    }
  },
  "cells": [
    {
      "cell_type": "code",
      "metadata": {
        "id": "6MyjZLKtOFJn"
      },
      "source": [
        "import numpy as np"
      ],
      "execution_count": 1,
      "outputs": []
    },
    {
      "cell_type": "code",
      "metadata": {
        "id": "ne7W8JNxQFc-"
      },
      "source": [
        "import heapq as hq"
      ],
      "execution_count": 2,
      "outputs": []
    },
    {
      "cell_type": "code",
      "metadata": {
        "id": "dN-hj4CjSWvE"
      },
      "source": [
        "c1 = \"c1\"\n",
        "c2 = \"c2\"\n",
        "c3 = \"c3\"\n",
        "contents = [c1, c2, c3]"
      ],
      "execution_count": 3,
      "outputs": []
    },
    {
      "cell_type": "code",
      "metadata": {
        "id": "NAoni6sblNIr"
      },
      "source": [
        "lambda_ = 1"
      ],
      "execution_count": 4,
      "outputs": []
    },
    {
      "cell_type": "code",
      "metadata": {
        "id": "yP7ii3H7RfuR"
      },
      "source": [
        "n_events = 1000"
      ],
      "execution_count": 5,
      "outputs": []
    },
    {
      "cell_type": "code",
      "metadata": {
        "id": "RY6a7Ta6SwWH"
      },
      "source": [
        "# [ref] heapq: https://docs.python.org/3/library/heapq.html#basic-examples\n",
        "class Cache:\n",
        "    def __init__(self, id, events, size=2):\n",
        "        ''' Inicializa cache\n",
        "        \n",
        "        Parametros:\n",
        "            id (str): identificador da cache\n",
        "            events (tuple): valores inicias a serem contidos na cache\n",
        "                do tipo (arrival_time, content)\n",
        "            size (int): capacidade da cache\n",
        "        '''\n",
        "        self.id = id\n",
        "        self._events = events\n",
        "        hq.heapify(self._events)\n",
        "        self._size = size\n",
        "        self._last_arrival = 0\n",
        "        self.misses = {}\n",
        "\n",
        "    def next_execution(self):\n",
        "        return self._events[0]\n",
        "\n",
        "    def events(self):\n",
        "        for event in self._events:\n",
        "            yield event[1]\n",
        "\n",
        "    def update_entry(self, event):\n",
        "        ''' Usado apenas no caso da LRU '''\n",
        "        for i in range(len(self._events)):\n",
        "            e = self._events[i]\n",
        "            if event[1] == e[1]:\n",
        "                self._events[i] = event\n",
        "        hq.heapify(self._events)\n",
        "\n",
        "    def add(self, event, cid):\n",
        "        ''' Adiciona evento (arrival_time, content) a cache'''\n",
        "        if len(self._events) == self._size:\n",
        "            if event[1] not in self.events():\n",
        "                self.misses[cid] = 1\n",
        "                removed_element = hq.heapreplace(self._events, event)\n",
        "                # print(f\"Elemento {removed_element} removido da cache {self.id}\")\n",
        "                # print(f\"Elemento {event} adicionado a cache {self.id}\")\n",
        "            else:\n",
        "                self.misses[cid] = 0\n",
        "                # print(f\"Element {event} já presente na cache {self.id}\")\n",
        "                # self.update_entry(event)\n",
        "\n",
        "        else:\n",
        "            self.misses[cid] = 1\n",
        "            hq.heappush(self._events, event)\n",
        "            print(f\"Elemento {event} adicionado a cache {self.id}\")\n",
        "\n",
        "        self._last_arrival = max(self._last_arrival, event[0])"
      ],
      "execution_count": 6,
      "outputs": []
    },
    {
      "cell_type": "code",
      "metadata": {
        "id": "lI5X9uUA9AIs"
      },
      "source": [
        "# faço broadcast desse conteudo para todas as caches\n",
        "# mantenho também uma heap de prioridade dos eventos\n",
        "# TODO: transformar (arrival_time, (cache, content)) em um objeto\n",
        "def broadcast_content(events, caches, time, content, cid):\n",
        "    for cache in caches:\n",
        "        arrival_time = time + np.random.exponential(1/lambda_)\n",
        "        hq.heappush(events, (arrival_time, (cache, cid, content)))"
      ],
      "execution_count": 7,
      "outputs": []
    },
    {
      "cell_type": "code",
      "metadata": {
        "id": "tmaPGuiURSAh"
      },
      "source": [
        "def simulate_cenario1():\n",
        "    events = []\n",
        "    hq.heapify(events)\n",
        "    \n",
        "    cache1 = Cache(1, [(0, c1), (0, c2)])\n",
        "    cache2 = Cache(2, [(0, c1), (0, c2)])\n",
        "    caches = [cache1, cache2]\n",
        "    \n",
        "    # sorteia primeiro conteúdo a ser processado\n",
        "    content = np.random.choice(contents)\n",
        "    \n",
        "    content_id = 0\n",
        "    broadcast_content(events, caches, 0, content, content_id)\n",
        "    for _ in range(n_events):\n",
        "        # processa próximo evento\n",
        "        time, (cache, cid, content) = hq.heappop(events)\n",
        "        # print(f\"[{time}] Adicionando {content} a cache {cache.id}\")\n",
        "        cache.add((time, content), cid)\n",
        "    \n",
        "        # sorteia processo conteudo a ser processado\n",
        "        content = np.random.choice(contents)\n",
        "        content_id += 1\n",
        "        broadcast_content(events, caches, time, content, content_id)\n",
        "    \n",
        "    # processa as requisições restantes\n",
        "    while len(events) > 0:\n",
        "        # processa próximo evento\n",
        "        time, (cache, cid, content) = hq.heappop(events)\n",
        "        # print(f\"[{time}] Adicionando {content} a cache {cache.id}\")\n",
        "        cache.add((time, content), cid)\n",
        "    \n",
        "    misses = 0\n",
        "    for cid in range(content_id):\n",
        "        if sum([cache.misses[cid] for cache in caches]) == len(caches):\n",
        "            misses += 1\n",
        "    return misses"
      ],
      "execution_count": 8,
      "outputs": []
    },
    {
      "cell_type": "code",
      "metadata": {
        "colab": {
          "base_uri": "https://localhost:8080/"
        },
        "id": "Z0P15QLu9Ljj",
        "outputId": "b957b553-a785-4ffe-ccd5-fe777e9c8c75"
      },
      "source": [
        "n_sims = 100\n",
        "misses = 0\n",
        "for _ in range(n_sims):\n",
        "    misses += simulate_cenario1()\n",
        "\n",
        "(misses/n_sims)/n_events"
      ],
      "execution_count": 11,
      "outputs": [
        {
          "output_type": "execute_result",
          "data": {
            "text/plain": [
              "0.11255"
            ]
          },
          "metadata": {
            "tags": []
          },
          "execution_count": 11
        }
      ]
    }
  ]
}